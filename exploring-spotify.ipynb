{
    "cells": [
        {
            "cell_type": "markdown",
            "source": [
                "# Getting started with APIs in Python\n",
                "\n",
                "using the [client credentials flow](https://developer.spotify.com/documentation/general/guides/authorization-guide/) to interact with spotify and learn the ins and outs of working with third party APIs\n",
                "\n",
                "## Initial Setup:\n",
                "- import `requests` so we can hit up our endpoints\n",
                "- import our client's id and secret values that we were given when we created the app with spotify\n",
                "- define some additional content that we're going to be working with"
            ],
            "metadata": {}
        },
        {
            "cell_type": "code",
            "execution_count": 57,
            "source": [
                "import requests\n",
                "from secrets import client_id, client_secret\n",
                "\n",
                "track_id = '6y0igZArWVi6Iz0rj35c1Y'\n",
                "base_endpoint = 'http://api.spotify.com/v1/'\n",
                "auth_url = 'https://accounts.spotify.com/api/token'"
            ],
            "outputs": [],
            "metadata": {}
        },
        {
            "cell_type": "markdown",
            "source": [
                "## Getting Authorisation\n",
                "the first thing we need to do is acquire an access token from spotify using our client id and client secret. this takes the form of a post request to an authorisation URL and a json formatted payload. "
            ],
            "metadata": {}
        },
        {
            "cell_type": "code",
            "execution_count": 58,
            "source": [
                "auth_response = requests.post(auth_url, {\n",
                "    'grant_type': 'client_credentials',\n",
                "    'client_id': client_id,\n",
                "    'client_secret': client_secret,\n",
                "})"
            ],
            "outputs": [],
            "metadata": {}
        },
        {
            "cell_type": "markdown",
            "source": [
                "now that we have a response from spotify we can convert the received data to json and access its KVPs, most importantly the access token that'll allow us to make further requests."
            ],
            "metadata": {}
        },
        {
            "cell_type": "code",
            "execution_count": 59,
            "source": [
                "auth_response_data = auth_response.json()\n",
                "access_token = auth_response_data['access_token']"
            ],
            "outputs": [],
            "metadata": {}
        },
        {
            "cell_type": "markdown",
            "source": [
                "The variable `auth_response_data` is a json object comprising the following information:\n",
                "\n",
                "```json\n",
                "{\n",
                "    'access_token': 'a big long string of numbers and letters',\n",
                "    'token_type': 'Bearer',\n",
                "    'expires_in': 3600\n",
                "}\n",
                "```\n",
                "having the data as a json object means we can access the KVP contents using `[]` indexing.\n"
            ],
            "metadata": {}
        },
        {
            "cell_type": "markdown",
            "source": [
                "## Accessing Spotify Data\n",
                "\n",
                "Now that we have authorisation we can start formulating queries in order to acquire meaningful data. first, we need some header information. refer to the spotify documentation for how to format headers in order to make successful requests."
            ],
            "metadata": {}
        },
        {
            "cell_type": "code",
            "execution_count": 60,
            "source": [
                "headers = {\n",
                "    'Authorization':'Bearer {token}'.format(token=access_token)\n",
                "}"
            ],
            "outputs": [],
            "metadata": {}
        },
        {
            "cell_type": "markdown",
            "source": [
                "Outlining the header here means we don't need to muck about with formatting json inside our next get request. Think of the header as the password you need in order to access the system.\n",
                "\n",
                "Spotify's going to expect endpoint requests to follow a specific configuration. This example will allow us to request a track's [audio features](https://developer.spotify.com/console/get-audio-features-track/).\n",
                "\n",
                "The next request is sent using the GET verb, which uses the URL as a means to transfer information from us to Spotify. The previous request was sent using POST, meaning the credentials were carried in the message body itself and it therefore more secure. \n",
                "\n",
                "### Sidenote: HTTP Body Data\n",
                "\n",
                "HTTP Body Data is the data bytes transmitted in an HTTP transaction message immediately following the headers if there is any (in the case of HTTP/0.9 no headers are transmitted).\n",
                "\n",
                "Most HTTP requests are GET requests without bodies. However, simulating requests with bodies is important to properly stress the proxy code and to test various hooks working with such requests. Most HTTP requests with bodies use POST or PUT request method.\n",
                "\n",
                "**Message Body**\n",
                "\n",
                "The message body part is optional for an HTTP message but if it is available then it is used to carry the entity-body associated with the request or response. If entity body is associated then usually Content-Type and Content-Length headers lines specify the nature of the body associated.\n",
                "\n",
                "A message body is the one which carries actual HTTP request data (including form data and uploaded etc.) and HTTP response data from the server ( including files, images etc). Following is a simple content of a message body:\n",
                "\n",
                "```html\n",
                "<html>\n",
                "<body>\n",
                "<h1>Hello, World!</h1>\n",
                "</body>\n",
                "</html>\n",
                "```\n",
                "\n",
                "For more details to HTTP messages and bodies refer to [w3org link](http://www.w3.org/Protocols/rfc2616/rfc2616-sec4.html)"
            ],
            "metadata": {}
        },
        {
            "cell_type": "code",
            "execution_count": 61,
            "source": [
                "response = requests.get(\n",
                "    base_endpoint + 'audio-features/' + track_id, headers=headers\n",
                ")\n",
                "\n",
                "response_data = response.json()\n",
                "print(response_data)"
            ],
            "outputs": [
                {
                    "output_type": "stream",
                    "name": "stdout",
                    "text": [
                        "{'danceability': 0.54, 'energy': 0.59, 'key': 0, 'loudness': -4.359, 'mode': 1, 'speechiness': 0.0528, 'acousticness': 0.446, 'instrumentalness': 0, 'liveness': 0.14, 'valence': 0.267, 'tempo': 119.878, 'type': 'audio_features', 'id': '6y0igZArWVi6Iz0rj35c1Y', 'uri': 'spotify:track:6y0igZArWVi6Iz0rj35c1Y', 'track_href': 'https://api.spotify.com/v1/tracks/6y0igZArWVi6Iz0rj35c1Y', 'analysis_url': 'https://api.spotify.com/v1/audio-analysis/6y0igZArWVi6Iz0rj35c1Y', 'duration_ms': 234910, 'time_signature': 4}\n"
                    ]
                }
            ],
            "metadata": {}
        },
        {
            "cell_type": "markdown",
            "source": [
                "As before, we get back a load of json, this time it's a load of information relating to the track we fed the endpoint\n",
                "\n",
                "```json\n",
                "{\n",
                "  \"danceability\": 0.54,\n",
                "  \"energy\": 0.59,\n",
                "  \"key\": 0,\n",
                "  \"loudness\": -4.359,\n",
                "  \"mode\": 1,\n",
                "  \"speechiness\": 0.0528,\n",
                "  \"acousticness\": 0.446,\n",
                "  \"instrumentalness\": 0,\n",
                "  \"liveness\": 0.14,\n",
                "  \"valence\": 0.267,\n",
                "  \"tempo\": 119.878,\n",
                "  \"type\": \"audio_features\",\n",
                "  \"id\": \"6y0igZArWVi6Iz0rj35c1Y\",\n",
                "  \"uri\": \"spotify:track:6y0igZArWVi6Iz0rj35c1Y\",\n",
                "  \"track_href\": \"https://api.spotify.com/v1/tracks/6y0igZArWVi6Iz0rj35c1Y\",\n",
                "  \"analysis_url\": \"https://api.spotify.com/v1/audio-analysis/6y0igZArWVi6Iz0rj35c1Y\",\n",
                "  \"duration_ms\": 234910,\n",
                "  \"time_signature\": 4\n",
                "}\n",
                "```"
            ],
            "metadata": {}
        },
        {
            "cell_type": "markdown",
            "source": [
                "the Spotify API docs give detailed explanations of the [meanings of each of these values](https://developer.spotify.com/documentation/web-api/reference/#endpoint-get-audio-features). Again, because this is all json formatted it's ripe for mucking about with, extracting the KVPs using index notation, e.g:"
            ],
            "metadata": {}
        },
        {
            "cell_type": "code",
            "execution_count": 62,
            "source": [
                "track_danceability = response_data['danceability']\n",
                "print(track_danceability)   # => 0.54"
            ],
            "outputs": [
                {
                    "output_type": "stream",
                    "name": "stdout",
                    "text": [
                        "0.54\n"
                    ]
                }
            ],
            "metadata": {}
        },
        {
            "cell_type": "markdown",
            "source": [
                "## Putting it all together\n",
                "Now that we have access to all this data we can do things like punt it all into a pandas dataframe and muck about with it. We can access Autechre's discography using a similar request to before, but we need to change our endpoint given we want a frame of albums. The song endpoint won't work in this case."
            ],
            "metadata": {}
        },
        {
            "cell_type": "code",
            "execution_count": 71,
            "source": [
                "artist_id = '6WH1V41LwGDGmlPUhSZLHO'\n",
                "\n",
                "artist_request = requests.get(base_endpoint + 'artists/' + artist_id + '/albums', headers=headers,\n",
                "                       params={'include-groups': 'album', 'limit': 50})\n",
                "artist_response = artist_request.json()\n",
                "# print(artist_response)\n",
                "    # trust me, it's a _lot_ of data\n"
            ],
            "outputs": [],
            "metadata": {}
        },
        {
            "cell_type": "code",
            "execution_count": null,
            "source": [
                "artist_response['items'][0]\n"
            ],
            "outputs": [],
            "metadata": {}
        },
        {
            "cell_type": "code",
            "execution_count": 77,
            "source": [
                "for album in artist_response['items']:\n",
                "    print(album['name'], ' - ', album['release_date'])"
            ],
            "outputs": [
                {
                    "output_type": "stream",
                    "name": "stdout",
                    "text": [
                        "PLUS  -  2020-10-29\n",
                        "PLUS  -  2020-10-28\n",
                        "SIGN  -  2020-10-16\n",
                        "SIGN  -  2020-10-16\n",
                        "NTS Session 4  -  2018-08-26\n",
                        "NTS Session 3  -  2018-08-25\n",
                        "NTS Session 2  -  2018-08-24\n",
                        "NTS Session 2  -  2018-08-24\n",
                        "NTS Session 3  -  2018-08-24\n",
                        "NTS Session 4  -  2018-08-24\n",
                        "NTS Session 1  -  2018-08-09\n",
                        "NTS Session 1  -  2018-08-09\n",
                        "elseq 1  -  2016-09-23\n",
                        "elseq  -  2016-05-20\n",
                        "elseq 1  -  2016-05-20\n",
                        "elseq 2  -  2016-05-20\n",
                        "elseq 2  -  2016-05-20\n",
                        "elseq 3  -  2016-05-20\n",
                        "elseq 3  -  2016-05-20\n",
                        "elseq 4  -  2016-05-20\n",
                        "elseq 4  -  2016-05-20\n",
                        "elseq 5  -  2016-05-20\n",
                        "elseq 5  -  2016-05-20\n",
                        "Exai  -  2013-03-04\n",
                        "Exai  -  2013-02-04\n",
                        "Move Of Ten  -  2010-07-12\n",
                        "Oversteps  -  2010-03-22\n",
                        "Oversteps  -  2010-02-22\n",
                        "Quaristice  -  2008\n",
                        "Quaristice  -  2007\n",
                        "Untilted  -  2005-04-18\n",
                        "Untilted  -  2005-04-18\n",
                        "Draft 7.30  -  2003-04-07\n",
                        "Draft 7.30  -  2003-04-07\n",
                        "Confield  -  2001-04-30\n",
                        "Confield  -  2001-04-30\n",
                        "EP7  -  1999-06-07\n",
                        "LP5  -  1998-07-13\n",
                        "LP5  -  1998\n",
                        "Chiastic Slide  -  1997-02-17\n",
                        "Envane  -  1997-01-27\n",
                        "Envane  -  1997-01-27\n",
                        "Chiastic Slide  -  1997\n",
                        "Tri Repetae  -  1995-11-06\n",
                        "Garbage  -  1995-02-27\n",
                        "Tri Repetae  -  1995\n",
                        "Amber  -  1994-11-07\n",
                        "Basscadet Mixes  -  1994-04-25\n",
                        "Amber  -  1994\n",
                        "Basscadet Mixes  -  1994\n"
                    ]
                }
            ],
            "metadata": {}
        },
        {
            "cell_type": "code",
            "execution_count": null,
            "source": [],
            "outputs": [],
            "metadata": {}
        }
    ],
    "metadata": {
        "orig_nbformat": 4,
        "language_info": {
            "name": "python",
            "version": "3.9.6",
            "mimetype": "text/x-python",
            "codemirror_mode": {
                "name": "ipython",
                "version": 3
            },
            "pygments_lexer": "ipython3",
            "nbconvert_exporter": "python",
            "file_extension": ".py"
        },
        "kernelspec": {
            "name": "python3",
            "display_name": "Python 3.9.6 64-bit ('exploring-spotify': conda)"
        },
        "interpreter": {
            "hash": "7c5eabd7bca6104cd66a3d89dfb52b01492c29b86fd7a6ffe37fd4511c0d24d4"
        }
    },
    "nbformat": 4,
    "nbformat_minor": 2
}