{
    "cells": [
        {
            "cell_type": "markdown",
            "source": [
                "# Getting started with APIs in Python\n",
                "\n",
                "using the [client credentials flow](https://developer.spotify.com/documentation/general/guides/authorization-guide/) to interact with spotify and learn the ins and outs of working with third party APIs\n",
                "\n",
                "## Initial Setup:\n",
                "- import `requests` so we can hit up our endpoints\n",
                "- import our client's id and secret values that we were given when we created the app with spotify\n",
                "- define some additional content that we're going to be working with"
            ],
            "metadata": {}
        },
        {
            "cell_type": "code",
            "execution_count": 17,
            "source": [
                "import requests\n",
                "from secrets import client_id, client_secret\n",
                "\n",
                "track_id = '6y0igZArWVi6Iz0rj35c1Y'\n",
                "base_endpoint = 'http://api.spotify.com/v1/'\n",
                "auth_url = 'https://accounts.spotify.com/api/token'"
            ],
            "outputs": [],
            "metadata": {}
        },
        {
            "cell_type": "markdown",
            "source": [
                "## Getting Authorisation\n",
                "the first thing we need to do is acquire an access token from spotify using our client id and client secret. this takes the form of a post request to an authorisation URL and a json formatted payload. "
            ],
            "metadata": {}
        },
        {
            "cell_type": "code",
            "execution_count": 18,
            "source": [
                "auth_response = requests.post(auth_url, {\n",
                "    'grant_type': 'client_credentials',\n",
                "    'client_id': client_id,\n",
                "    'client_secret': client_secret,\n",
                "})"
            ],
            "outputs": [],
            "metadata": {}
        },
        {
            "cell_type": "markdown",
            "source": [
                "now that we have a response from spotify we can convert the received data to json and access its KVPs, most importantly the access token that'll allow us to make further requests."
            ],
            "metadata": {}
        },
        {
            "cell_type": "code",
            "execution_count": 19,
            "source": [
                "auth_response_data = auth_response.json()\n",
                "access_token = auth_response_data['access_token']"
            ],
            "outputs": [],
            "metadata": {}
        },
        {
            "cell_type": "markdown",
            "source": [
                "The variable `auth_response_data` is a json object comprising the following information:\n",
                "\n",
                "```json\n",
                "{\n",
                "    'access_token': 'a big long string of numbers and letters',\n",
                "    'token_type': 'Bearer',\n",
                "    'expires_in': 3600\n",
                "}\n",
                "```\n",
                "having the data as a json object means we can access the KVP contents using `[]` indexing.\n"
            ],
            "metadata": {}
        },
        {
            "cell_type": "markdown",
            "source": [
                "## Accessing Spotify Data\n",
                "\n",
                "Now that we have authorisation we can start formulating queries in order to acquire meaningful data. first, we need some header information. refer to the spotify documentation for how to format headers in order to make successful requests."
            ],
            "metadata": {}
        },
        {
            "cell_type": "code",
            "execution_count": 20,
            "source": [
                "headers = {\n",
                "    'Authorization':'Bearer {token}'.format(token=access_token)\n",
                "}"
            ],
            "outputs": [],
            "metadata": {}
        },
        {
            "cell_type": "markdown",
            "source": [
                "Outlining the header here means we don't need to muck about with formatting json inside our next get request. Think of the header as the password you need in order to access the system.\n",
                "\n",
                "Spotify's going to expect endpoint requests to follow a specific configuration. This example will allow us to request a track's [audio features](https://developer.spotify.com/console/get-audio-features-track/)"
            ],
            "metadata": {}
        },
        {
            "cell_type": "code",
            "execution_count": null,
            "source": [
                "response = requests.get(\n",
                "    base_endpoint + 'audio-features/' + track_id, headers=headers\n",
                ")\n",
                "\n",
                "response_data = response.json()\n",
                "print(response_data)"
            ],
            "outputs": [],
            "metadata": {}
        },
        {
            "cell_type": "markdown",
            "source": [
                "As before, we get back a load of json, this time it's a load of information relating to the track we fed the endpoint\n",
                "\n",
                "```json\n",
                "{\n",
                "  \"danceability\": 0.54,\n",
                "  \"energy\": 0.59,\n",
                "  \"key\": 0,\n",
                "  \"loudness\": -4.359,\n",
                "  \"mode\": 1,\n",
                "  \"speechiness\": 0.0528,\n",
                "  \"acousticness\": 0.446,\n",
                "  \"instrumentalness\": 0,\n",
                "  \"liveness\": 0.14,\n",
                "  \"valence\": 0.267,\n",
                "  \"tempo\": 119.878,\n",
                "  \"type\": \"audio_features\",\n",
                "  \"id\": \"6y0igZArWVi6Iz0rj35c1Y\",\n",
                "  \"uri\": \"spotify:track:6y0igZArWVi6Iz0rj35c1Y\",\n",
                "  \"track_href\": \"https://api.spotify.com/v1/tracks/6y0igZArWVi6Iz0rj35c1Y\",\n",
                "  \"analysis_url\": \"https://api.spotify.com/v1/audio-analysis/6y0igZArWVi6Iz0rj35c1Y\",\n",
                "  \"duration_ms\": 234910,\n",
                "  \"time_signature\": 4\n",
                "}\n",
                "```"
            ],
            "metadata": {}
        }
    ],
    "metadata": {
        "orig_nbformat": 4,
        "language_info": {
            "name": "python",
            "version": "3.9.6",
            "mimetype": "text/x-python",
            "codemirror_mode": {
                "name": "ipython",
                "version": 3
            },
            "pygments_lexer": "ipython3",
            "nbconvert_exporter": "python",
            "file_extension": ".py"
        },
        "kernelspec": {
            "name": "python3",
            "display_name": "Python 3.9.6 64-bit ('exploring-spotify': conda)"
        },
        "interpreter": {
            "hash": "7c5eabd7bca6104cd66a3d89dfb52b01492c29b86fd7a6ffe37fd4511c0d24d4"
        }
    },
    "nbformat": 4,
    "nbformat_minor": 2
}